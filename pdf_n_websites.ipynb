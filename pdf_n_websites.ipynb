{
 "cells": [
  {
   "cell_type": "code",
   "execution_count": 1,
   "metadata": {},
   "outputs": [],
   "source": [
    "from PyPDF2 import PdfReader\n",
    "from langchain.embeddings.openai import OpenAIEmbeddings\n",
    "from langchain.text_splitter import CharacterTextSplitter\n",
    "from langchain_community.vectorstores import ElasticVectorSearch, Pinecone, Weaviate, FAISS\n",
    "from langchain.chains.question_answering import load_qa_chain\n",
    "from langchain.text_splitter import RecursiveCharacterTextSplitter\n",
    "from langchain_community.llms import OpenAI\n",
    "from langchain_community.callbacks import get_openai_callback\n",
    "from dotenv import load_dotenv\n",
    "import os\n"
   ]
  },
  {
   "cell_type": "code",
   "execution_count": 32,
   "metadata": {},
   "outputs": [],
   "source": [
    "load_dotenv()\n",
    "\n",
    "reader=PdfReader('FreshmanGuide.pdf')\n",
    "\n",
    "text = \"\"\n",
    "for page in reader.pages:\n",
    "    text += page.extract_text()\n",
    "\n",
    "text_splitter = RecursiveCharacterTextSplitter(\n",
    "    chunk_size=1000,\n",
    "    chunk_overlap=200,\n",
    "    length_function=len\n",
    "    )\n",
    "chunks = text_splitter.split_text(text=text)"
   ]
  },
  {
   "cell_type": "code",
   "execution_count": 46,
   "metadata": {},
   "outputs": [],
   "source": [
    "embeddings = OpenAIEmbeddings()\n",
    "\n",
    "VectorStore = FAISS.from_texts(chunks, embedding=embeddings)\n",
    "\n",
    "llm = OpenAI()\n",
    "chain = load_qa_chain(llm=llm, chain_type=\"stuff\")\n"
   ]
  },
  {
   "cell_type": "code",
   "execution_count": 48,
   "metadata": {},
   "outputs": [
    {
     "name": "stdout",
     "output_type": "stream",
     "text": [
      " I'm sorry, but I cannot redirect you to the Thomso website as it is not mentioned in the given context. However, you can visit the Institute website for more information on the annual cultural festival. Here is the url: https://iitr.ac.in/Institute/About the Institute/Institute Time Capsule.html\n",
      "Tokens Used: 577\n",
      "\tPrompt Tokens: 511\n",
      "\tCompletion Tokens: 66\n",
      "Successful Requests: 1\n",
      "Total Cost (USD): $0.0008985\n"
     ]
    }
   ],
   "source": [
    "query=str(input(\"How can I help you today?: \"))\n",
    "\n",
    "docs = VectorStore.similarity_search(query=query, k=2)\n",
    "\n",
    "with get_openai_callback() as cb:\n",
    "        response = chain.run(input_documents=docs, question=query)\n",
    "        print(response)\n",
    "        print(cb)\n",
    " "
   ]
  },
  {
   "cell_type": "code",
   "execution_count": 29,
   "metadata": {},
   "outputs": [
    {
     "data": {
      "text/plain": [
       "\" Based on the given context, it seems that branch change is a highly competitive process at IITR. The rules for branch change are subject to frequent changes and only 10% of total seats in any branch are open for incoming branch changers. Additionally, the strength of any branch should not fall more than 25% due to outgoing BCs. To be eligible for branch change, one must maintain a good GPA and not fail any courses. The process involves choosing courses from one's own department's electives to meet a quota of 18 credits and possibly pursuing departmental honors. Audits, which are not graded, are also an option for students in their third year. Branch change is a challenging and intense process, with students competing for limited spots in their desired branch.\""
      ]
     },
     "execution_count": 29,
     "metadata": {},
     "output_type": "execute_result"
    }
   ],
   "source": [
    "query = \"tell me about the process of branch change\"\n",
    "docs = VectorStore.similarity_search(query)\n",
    "chain.run(input_documents=docs, question=query)"
   ]
  },
  {
   "cell_type": "code",
   "execution_count": 24,
   "metadata": {},
   "outputs": [
    {
     "data": {
      "text/plain": [
       "' Some of the clubs and organizations on campus include the Student Affairs Council (SAC), which represents the student community in the IITR senate, and numerous other student councils and committees such as the Technical Council, Academic Committee, and Cultural Council. There is also an annual cultural festival called Thomso, and various other festivals and events throughout the year. There is also an administrative block that houses the offices of the Director and Deans, and a well-maintained lawn in front of the building. Other popular spots on campus include the Main Building, which is a favorite among students, and the Maha tma Gandhi Central Library, which has over 3.5 lakh books and is open 24/7 during exams. Additionally, there are also various eateries on campus, such as the chaat shop located near the Sports Complex.'"
      ]
     },
     "execution_count": 24,
     "metadata": {},
     "output_type": "execute_result"
    }
   ],
   "source": [
    "query=\"tell me about the various clubs and organizations on campus\"\n",
    "docs = VectorStore.similarity_search(query)\n",
    "chain.run(input_documents=docs, question=query)"
   ]
  }
 ],
 "metadata": {
  "kernelspec": {
   "display_name": "Python 3",
   "language": "python",
   "name": "python3"
  },
  "language_info": {
   "codemirror_mode": {
    "name": "ipython",
    "version": 3
   },
   "file_extension": ".py",
   "mimetype": "text/x-python",
   "name": "python",
   "nbconvert_exporter": "python",
   "pygments_lexer": "ipython3",
   "version": "3.10.11"
  }
 },
 "nbformat": 4,
 "nbformat_minor": 2
}
